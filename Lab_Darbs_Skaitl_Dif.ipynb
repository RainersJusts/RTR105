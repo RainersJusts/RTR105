{
 "cells": [
  {
   "cell_type": "markdown",
   "metadata": {},
   "source": [
    "## Atskaite par laboratorijas darbu skaitliskajā diferencēšanā"
   ]
  },
  {
   "cell_type": "markdown",
   "metadata": {},
   "source": [
    "Dotā funkcija = $cos^{2}(x/2)$"
   ]
  },
  {
   "cell_type": "markdown",
   "metadata": {},
   "source": [
    "Tiek importēta kosinusa aprēķināšanas komanda *cos* un vienādā attālumā sadalītu skaitļu masīva veidošanas komanda *linspace* no *numpy* bibliotēkas.\n",
    "\n",
    "Tiek importēta grafiku zīmēšanas komanda *pyplot* no *matplotlib* bibliotēkas un tiek nodēvēts par *plt*."
   ]
  },
  {
   "cell_type": "code",
   "execution_count": 24,
   "metadata": {},
   "outputs": [],
   "source": [
    "from numpy import cos, linspace\n",
    "from matplotlib import pyplot as plt"
   ]
  },
  {
   "cell_type": "markdown",
   "metadata": {},
   "source": [
    "Tiek definēta dotās funkcijas aprēķināšanas komanda, lai nodrošinātu vieglāku funckijas aprakstīšanu turpmāk."
   ]
  },
  {
   "cell_type": "code",
   "execution_count": 25,
   "metadata": {},
   "outputs": [],
   "source": [
    "def f(x):\n",
    "    return cos(x/2)*cos(x/2)"
   ]
  },
  {
   "cell_type": "markdown",
   "metadata": {},
   "source": [
    "Tiek iegūtas *x* un *y* vērtības.\n",
    "\n",
    "**x** vērtības tiek iegūtas ar *linspace* komandu, kura izveido virkni ar vienādā attālumā sadalītiem skaitļiem lietotāja noteiktā intervālā un skaitā.\n",
    "\n",
    "**y** vērtības tiek iegūtas, ievietojot iepriekš iegūtās x vērtības iepriekš definētajā komandā, kura aprēķina doto funkciju pie x."
   ]
  },
  {
   "cell_type": "code",
   "execution_count": 26,
   "metadata": {},
   "outputs": [],
   "source": [
    "x = linspace(0,6,21)\n",
    "y = f(x)"
   ]
  },
  {
   "cell_type": "markdown",
   "metadata": {},
   "source": [
    "Tiek iegūtas vērtības, kas programmā paliek nemainīgas un tiek lietotas vairākkārt. \n",
    "\n",
    "Tiek definēts masīvs, kurā tiks uzglabātas *pirmās kārtas atvasinājuma* vērtības."
   ]
  },
  {
   "cell_type": "code",
   "execution_count": 27,
   "metadata": {},
   "outputs": [],
   "source": [
    "dv = []\n",
    "deltax = x[1] - x[0]\n",
    "N = len(x)"
   ]
  },
  {
   "cell_type": "markdown",
   "metadata": {},
   "source": [
    "Cikls aprēķina atvasinājuma vērtību pie katra **x** masīvā. Iegūtās vērtības tiek ievietotas iepriekš definētajā masīvā atvasinājuma vērtībām.\n",
    "\n",
    "Vērtības tiek aprēķinātas pēc atvasinājuma definīcijas."
   ]
  },
  {
   "cell_type": "code",
   "execution_count": 28,
   "metadata": {},
   "outputs": [],
   "source": [
    "for i in range(N):\n",
    "    temp = (f(x[i] + deltax) - f(x[i])) / deltax\n",
    "    dv.append(temp)"
   ]
  },
  {
   "cell_type": "markdown",
   "metadata": {},
   "source": [
    "Tiek definēts masīvs, kurā tiks uzglabātas *otrās kārtas atvasinājuma* vērtības.\n",
    "\n",
    "*Otrās kārtas atvasinājums* dotajai funkcijai tiek aprēķināts, izmantojot atvasinājuma aprēķināšanu caur masīvu. Aprēķinot otrās kārtas atvasinājumu, tiek zaudēts viens masīva loceklis, kura dēļ vajadzēs veikt labojumus grafika zīmēšanā."
   ]
  },
  {
   "cell_type": "code",
   "execution_count": 29,
   "metadata": {},
   "outputs": [],
   "source": [
    "seconddv = []\n",
    "\n",
    "for i in range(N-1):\n",
    "    temp = (dv[i+1] - dv[i]) / deltax\n",
    "    seconddv.append(temp)"
   ]
  },
  {
   "cell_type": "markdown",
   "metadata": {},
   "source": [
    "Tiek definēts masīvs, kurā uzglabās grafika elementu apzīmējumu informāciju."
   ]
  },
  {
   "cell_type": "code",
   "execution_count": 30,
   "metadata": {},
   "outputs": [],
   "source": [
    "legend = []"
   ]
  },
  {
   "cell_type": "markdown",
   "metadata": {},
   "source": [
    "Tiek zīmēts grafiks ar *pyplot*.\n",
    "\n",
    "Grafika izmērs ir izvēlēts mazāks kā izvēlētās x vērtības, jo, rēķinot *otrās kārtas atvasinājumu*, tiek pazaudēta viena vērtība. Šādi tiek izlaists posms, kur nav redzami visi 3 funkcijas grafiki."
   ]
  },
  {
   "cell_type": "code",
   "execution_count": 31,
   "metadata": {},
   "outputs": [
    {
     "data": {
      "image/png": "[encoded data removed]",
      "text/plain": [
       "<Figure size 432x288 with 1 Axes>"
      ]
     },
     "metadata": {},
     "output_type": "display_data"
    }
   ],
   "source": [
    "plt.axis([0,5,-1,1.5])\n",
    "plt.grid()\n",
    "plt.xlabel(\"x\")\n",
    "plt.ylabel(\"f(x)\")\n",
    "plt.title(\"Funkcija $cos^2(x/2)$ un taas atvasinaajumi\")\n",
    "plt.plot(x,y,\"k\")\n",
    "legend.append(\"$cos^2(x/2)$ - taisnas liinijas\")\n",
    "plt.plot(x,y,\"ro\")\n",
    "legend.append(\"$cos^2(x/2)$ - punkti\")\n",
    "plt.plot(x,dv,\"y\")\n",
    "legend.append(\"$cos^2(x/2)$ atv. - taisnas linijas\")\n",
    "plt.plot(x,dv,\"go\")\n",
    "legend.append(\"$cos^2(x/2)$ atv. - dazhi punkti\")\n",
    "plt.plot(x[0:len(x)-1],seconddv,\"m\")\n",
    "legend.append(\"$cos^2(x/2)$ 2.k. atv. - taisnas linijas\")\n",
    "plt.plot(x[0:len(x)-1],seconddv,\"bo\")\n",
    "legend.append(\"$cos^2(x/2)$ 2.k. atv. - dazhi punkti\")\n",
    "plt.legend(legend, prop={'size': 8}, loc=3, fancybox=True, framealpha=0.5, facecolor=\"green\")\n",
    "plt.show()"
   ]
  },
  {
   "cell_type": "markdown",
   "metadata": {},
   "source": [
    "### Matemātiskā analīze"
   ]
  },
  {
   "cell_type": "markdown",
   "metadata": {},
   "source": [
    "Tiek skatīts viens ekstrēma punkts un viens pārliekuma punkts, jo grafikā ir pārskatāms posms līdz un pēc šiem punktiem."
   ]
  },
  {
   "cell_type": "markdown",
   "metadata": {},
   "source": [
    "##### Monotonitātes intervāli, ekstrēmi\n",
    "\n",
    "Dotā funkcija $cos^2(x/2)$ redzamajā intervālā dilst, kad tās 1. kārtas atvasinājums negatīvs, un aug, kad tās 1. kārtas atvasinājums ir pozitīvs.\n",
    "\n",
    "Teorētiski funkcijas ekstrēma punktam izvēlētajā intervālā vajadzētu būt x=$\\pi$ un funkcijas vērtībai f(x)=0, tomēr *linspace* ģenerētajā masīvā šādas vērtība nav. Pēc grafika tuvākais punkts ekstrēma punktam ir x=3, dotās funkcijas vērtība šajā punktā ir f(3)=0.005003.\n",
    "\n",
    "Atrastais ekstrēma punkts ir dotās funkcijas minimuma punkts."
   ]
  },
  {
   "cell_type": "code",
   "execution_count": 32,
   "metadata": {},
   "outputs": [
    {
     "name": "stdout",
     "output_type": "stream",
     "text": [
      "linspace komandas veidotais masiivs: [0.  0.3 0.6 0.9 1.2 1.5 1.8 2.1 2.4 2.7 3.  3.3 3.6 3.9 4.2 4.5 4.8 5.1\n",
      " 5.4 5.7 6. ]\n",
      "Funckijas vērtiiba pie x=3 : 0.005003751699777271\n"
     ]
    }
   ],
   "source": [
    "print(\"linspace komandas veidotais masiivs:\",x)\n",
    "print(\"Funckijas vērtiiba pie x=3 :\",f(3))"
   ]
  },
  {
   "cell_type": "markdown",
   "metadata": {},
   "source": [
    "#### Pārliekuma punkti\n",
    "\n",
    "Dotās funkcijas kritiskajam punktam tuvākais punkts izvēlētajā intervālā ir x=3, teorētiski kritiskajam punktam vajadzētu būt $\\pi$. Skaidrojums ir tāds pats kā ekstrēma punktam - *linspace* ģenerētajā masīvā šādas vērtības nav. Teorētiski dotās funkcijas vērtībai šajā punktā vajadzētu būt f(x)=0, atrastajā punktā tā ir f(3)=0.005003.\n",
    "\n",
    "Atrastajā kritiskajā punktā dotās funckijas 2. kārtas atvasinājuma zīme mainās no pozitīvas uz negatīvu un tā grafiks sāk dilt, līdz ar to atrastais kritiskais punkts ir dotās funkcijas pārliekuma punkts."
   ]
  }
 ],
 "metadata": {
  "kernelspec": {
   "display_name": "Python 3",
   "language": "python",
   "name": "python3"
  },
  "language_info": {
   "codemirror_mode": {
    "name": "ipython",
    "version": 3
   },
   "file_extension": ".py",
   "mimetype": "text/x-python",
   "name": "python",
   "nbconvert_exporter": "python",
   "pygments_lexer": "ipython3",
   "version": "3.6.7"
  }
 },
 "nbformat": 4,
 "nbformat_minor": 2
}

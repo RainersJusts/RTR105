{
 "cells": [
  {
   "cell_type": "markdown",
   "metadata": {},
   "source": [
    "## Atskaite par laboratorijas darbu zīmēšanā"
   ]
  },
  {
   "cell_type": "markdown",
   "metadata": {},
   "source": [
    "Dotā funkcija = $cos^{2}(x/2)$"
   ]
  },
  {
   "cell_type": "markdown",
   "metadata": {},
   "source": [
    "Tiek importēta kosinusa aprēķināšanas komanda *cos*, sinusa aprēķināšanas komanda *sin*, matemātiskās konstantes ${\\pi}$ vērtību un vienādā attālumā sadalītu skaitļu masīva veidošanas komanda *linspace* no *numpy* bibliotēkas.\n",
    "\n",
    "Tiek importēta grafika zīmēšanas komanda *pyplot* no *matplotlib* bibliotēkas un tiek nodēvēts kā *plt*."
   ]
  },
  {
   "cell_type": "code",
   "execution_count": 1,
   "metadata": {},
   "outputs": [],
   "source": [
    "from numpy import sin, cos, linspace, pi\n",
    "from matplotlib import pyplot as plt"
   ]
  },
  {
   "cell_type": "markdown",
   "metadata": {},
   "source": [
    "Tiek definētas funkcijas, kas aprēķina dotās funkcijas rindas vērtību, ņemot klāt katru nākamo rindas locekli."
   ]
  },
  {
   "cell_type": "code",
   "execution_count": 2,
   "metadata": {},
   "outputs": [],
   "source": [
    "def f1(x):\n",
    "    return (-1)**0*x**0/(1)\n",
    "\n",
    "def f2(x):\n",
    "    return f1(x) + x**2/2*(1*2)\n",
    "\n",
    "def f3(x):\n",
    "    return f2(x) + x**4/2*(1*2*3*4)\n",
    "\n",
    "def f4(x):\n",
    "    return f3(x) + x**6/2*(1*2*3*4*5*6)"
   ]
  },
  {
   "cell_type": "markdown",
   "metadata": {},
   "source": [
    "Tiek iegūtas **x** un atbilstošās **y** vērtības katrai iepriekš definētajai funkcijai un dotajai funkcijai.\n",
    "\n",
    "**x** vērtības tiek iegūtas ar *linspace* komandu, kura izveido virkni ar vienādā attālumā sadalītiem skaitļiem lietotāja noteiktā intervālā un skaitā.\n",
    "\n",
    "Tika izvēlēts mazs intervāls, jo lielākā intervālā *f3(x)* un *f4(x)* funkciju vērtības ir ļoti lielas un mazākās funkcijas grafikā kļuva neuzskatāmas. Šādi visi izvirzījumi rindā ir pietiekami uzskatāmi. "
   ]
  },
  {
   "cell_type": "code",
   "execution_count": 4,
   "metadata": {},
   "outputs": [],
   "source": [
    "x = linspace(-0.5,0.5,41)\n",
    "y = cos(x/2)*cos(x/2)\n",
    "y1 = f1(x)\n",
    "y2 = f2(x)\n",
    "y3 = f3(x)\n",
    "y4 = f4(x)"
   ]
  },
  {
   "cell_type": "markdown",
   "metadata": {},
   "source": [
    "Tiek definēts masīvs, kurā uzglabās grafika elementu apzīmējumu informāciju."
   ]
  },
  {
   "cell_type": "code",
   "execution_count": 5,
   "metadata": {},
   "outputs": [],
   "source": [
    "legend = []"
   ]
  },
  {
   "cell_type": "markdown",
   "metadata": {},
   "source": [
    "Tiek zīmēts grafiks, izmantojot *pyplot*.\n",
    "\n",
    "Grafikam, izmantojot *plt.grid()* tiek piešķirts režģis, kas padara grafiku uzskatāmāku.\n",
    "\n",
    "Grafika asīm tiek iedoti nosaukumi *x* un *f(x)* respektīvajām asīm. Grafikam tiek iedots nosaukums \"$cos^{2}(x/2)$ funkcija un tās izvirzījumi rindā\"\n",
    "\n",
    "Dotajā funkcija un funkcijas izvirzījumi rindā tiek attēloti grafikā, izmantojot *plt.plot()*. Katram tiek piešķirta sava krāsa, kura tiek noteikta *plt.plot()* komandā, un apzīmējumi, kuri tiek uzglabāti *legend* masīvā.\n",
    "\n",
    "Apzīmējumi tiek pievienoti savā masīvā, izmantojot *legend.append()* komandu. Grafikā apzīmējumi tiek drukāti ar *plt.legend()* komandu, tajā ievadot masīva nosakumu un vēlamo atrašanos vietu grafikā.\n",
    "\n",
    "Funkcijas grafiks tiek parādīts ar noslēdzošo komandu *plt.show()*."
   ]
  },
  {
   "cell_type": "code",
   "execution_count": 6,
   "metadata": {},
   "outputs": [
    {
     "data": {
      "image/png": "[encoded data removed]",
      "text/plain": [
       "<Figure size 432x288 with 1 Axes>"
      ]
     },
     "metadata": {},
     "output_type": "display_data"
    }
   ],
   "source": [
    "plt.grid()\n",
    "plt.xlabel(\"$x$\")\n",
    "plt.ylabel(\"$f(x)$\")\n",
    "plt.title(\"$cos^2(x/2)$ funkcija un tās izvirzījumi rindā\")\n",
    "plt.plot(x,y,color = \"#000000\")\n",
    "legend.append(\"$cos^2(x/2)$\")\n",
    "plt.plot(x,y1,color = \"#FF0000\")\n",
    "legend.append(\"$1$\")\n",
    "plt.plot(x,y2,color = \"#00FF00\")\n",
    "legend.append(\"$1 + x^2/2*(2*1)!$\")\n",
    "plt.plot(x,y3,color = \"#0000FF\")\n",
    "legend.append(\"$1 + x^2/2*(2*1)! + x^4/2*(2*2)!$\")\n",
    "plt.plot(x,y4,color = \"#FFFF00\")\n",
    "legend.append(\"$1 + x^2/2*(2*1)! + x^4/2*(2*2)! + x^6/2*(2*3)!$\")\n",
    "plt.legend(legend, loc = 2)\n",
    "plt.show()"
   ]
  },
  {
   "cell_type": "markdown",
   "metadata": {},
   "source": [
    "### Cietais rieksts"
   ]
  },
  {
   "cell_type": "markdown",
   "metadata": {},
   "source": [
    "Tiek definēta funkcija, kura rezultātā pie dotā **x** izdos nepieciešamo iterāciju skaitu summēšanas metodē, lai kļūda starp teorētisko un praktisko aprēķinu veidu būtu mazāka par 0,01.\n",
    "\n",
    "Funckija definē iterāciju skaitu sākumā, rindas pirmo locekli un summu. \n",
    "\n",
    "Sākoties ciklam, pie iterāciju skaita tiek pieskaitīts 1, lai norādītu, kura iterācija notiek. Ciklā tiek definēts rekurences reizinātājs, ar kuru tiek aprēķināts katrs nākamais rindas loceklis. Jauniegūtais loceklis tiek pieskaitīts rindas summā.\n",
    "\n",
    "Ar *if* tiek pārbaudīts vai ar šo iterāciju ir sasniegta pietiekamā precizitāte, kas šajā uzdevumā ir 0,01, no *sin* pie dotā **x** atņemot iegūto summu. Tā kā funckija *y=sin(x)* var būt arī negatīva, tiek ņemts šīs vērtības modulis.\n",
    "\n",
    "Sasniedzot vajadzīgo iterāciju, no iterāciju skaita tiek atņemts 1, lai norādītu, pie kura rindas locekļa ņemšanas kļūda vēl ir vērojama."
   ]
  },
  {
   "cell_type": "code",
   "execution_count": 7,
   "metadata": {},
   "outputs": [],
   "source": [
    "def manssin(x):\n",
    "    k = 0\n",
    "    a = (-1)**0*x**1/(1)\n",
    "    S = a\n",
    "\n",
    "    while True:\n",
    "        k = k + 1\n",
    "        R = (-1)*x*x/((2*k)*(2*k+1))\n",
    "        a = a * R\n",
    "        S = S + a\n",
    "        if abs(sin(x)-S) < 0.01:\n",
    "            k = k - 1\n",
    "            return k"
   ]
  },
  {
   "cell_type": "markdown",
   "metadata": {},
   "source": [
    "Tiek definēta argumenta vērtība kā ${\\pi}$ un tiek rēķināts, pie kura locekļa ir vērojama kļūda, izmantojot definēto funkciju."
   ]
  },
  {
   "cell_type": "code",
   "execution_count": 8,
   "metadata": {},
   "outputs": [],
   "source": [
    "cx = pi\n",
    "cy = manssin(cx)"
   ]
  },
  {
   "cell_type": "markdown",
   "metadata": {},
   "source": [
    "Tiek definēts ${\\pi}$ simbols.\n",
    "\n",
    "Tiek izprintēts definētās funkcijas rezultāts pie argumenta vērtības ${\\pi}$."
   ]
  },
  {
   "cell_type": "code",
   "execution_count": 9,
   "metadata": {},
   "outputs": [
    {
     "name": "stdout",
     "output_type": "stream",
     "text": [
      "Cietaa rieksta atrisinaajums:\n",
      "Pie argumenta vertibas π kluda starp teoretisko un praktisko ar summesanu ieguto tuvinajumu bus verojama pie locekla nr.3\n"
     ]
    }
   ],
   "source": [
    "p = u\"\\u03C0\"\n",
    "print(\"Cietaa rieksta atrisinaajums:\")\n",
    "print(\"Pie argumenta vertibas %s kluda starp teoretisko un praktisko ar summesanu ieguto tuvinajumu bus verojama pie locekla nr.%i\"%(p,cy))"
   ]
  }
 ],
 "metadata": {
  "kernelspec": {
   "display_name": "Python 3",
   "language": "python",
   "name": "python3"
  },
  "language_info": {
   "codemirror_mode": {
    "name": "ipython",
    "version": 3
   },
   "file_extension": ".py",
   "mimetype": "text/x-python",
   "name": "python",
   "nbconvert_exporter": "python",
   "pygments_lexer": "ipython3",
   "version": "3.6.7"
  }
 },
 "nbformat": 4,
 "nbformat_minor": 2
}

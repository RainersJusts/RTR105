{
 "cells": [
  {
   "cell_type": "markdown",
   "metadata": {},
   "source": [
    "## Atskaite par laboratorijas darbu skaitliskajā integrēšanā, izmantojot Monte Carlo metodi"
   ]
  },
  {
   "cell_type": "markdown",
   "metadata": {},
   "source": [
    "Dotā funkcija = $cos^{2}(x/2)$"
   ]
  },
  {
   "cell_type": "markdown",
   "metadata": {},
   "source": [
    "Tiek importēta komanda *random* no *numpy* bibliotēkas, lai varētu\n",
    "iegūt pēc iespējas nejaušāk atliktus punktus funkcijas laukuma aprēķināšanai."
   ]
  },
  {
   "cell_type": "code",
   "execution_count": 11,
   "metadata": {},
   "outputs": [],
   "source": [
    "from numpy import random"
   ]
  },
  {
   "cell_type": "markdown",
   "metadata": {},
   "source": [
    "Tiek noteikts punktu skaits."
   ]
  },
  {
   "cell_type": "code",
   "execution_count": 12,
   "metadata": {},
   "outputs": [],
   "source": [
    "N = 10000"
   ]
  },
  {
   "cell_type": "markdown",
   "metadata": {},
   "source": [
    "Tiek definēti skaitļi, ar kuriem tiks definēti intervāli, kuros tiks atlikti punkti."
   ]
  },
  {
   "cell_type": "code",
   "execution_count": 13,
   "metadata": {},
   "outputs": [],
   "source": [
    "a = 0\n",
    "b = 5\n",
    "b1 = 2"
   ]
  },
  {
   "cell_type": "markdown",
   "metadata": {},
   "source": [
    "Iegūst nejauši izvēlētas punktu **x** koordinātas."
   ]
  },
  {
   "cell_type": "code",
   "execution_count": 14,
   "metadata": {
    "scrolled": true
   },
   "outputs": [],
   "source": [
    "x = random.uniform(a,b,N)"
   ]
  },
  {
   "cell_type": "markdown",
   "metadata": {},
   "source": [
    "Parāda, cik nejauši un vienlīdzīgi sadalītas *random.uniform* komandas iegūtās **x** vērtības, sadalot noteikto intervālu 5 mazākos un rēķinot, cik vērtību katrā ietilpst.\n",
    "\n",
    "Ja dotā **x** vērtība ir mazāka par 1, tā ietilpst pirmajā intervālā, **k** masīva pirmajam skaitlim pieskaita klāt 1. To pašu dara, ja **x** vērtība ir lielāka par 1, bet mazāka 2, pieskaitot otrajam **k** masīva skaitlim 1, tā turpinot ar katru intervālu. \n",
    "\n",
    "Cikls beidzas, kad beidzas **x** vērtību, un tiek izprintēts masīvs."
   ]
  },
  {
   "cell_type": "code",
   "execution_count": 15,
   "metadata": {},
   "outputs": [
    {
     "name": "stdout",
     "output_type": "stream",
     "text": [
      "[2043, 1976, 2032, 1954, 1995]\n"
     ]
    }
   ],
   "source": [
    "k = [0, 0, 0, 0, 0]\n",
    "for i in range(N):\n",
    "    if x[i] < 1:\n",
    "        k[0] = k[0] + 1\n",
    "    elif x[i] < 2:\n",
    "        k[1] = k[1] + 1\n",
    "    elif x[i] < 3:\n",
    "        k[2] = k[2] + 1\n",
    "    elif x[i] < 4:\n",
    "        k[3] = k[3] + 1\n",
    "    else:\n",
    "        k[4] = k[4] + 1\n",
    "print(k)"
   ]
  },
  {
   "cell_type": "markdown",
   "metadata": {},
   "source": [
    "Tiek importēta kosinusa aprēķināšanas komanda *cos* no *math* bibliotēkas."
   ]
  },
  {
   "cell_type": "code",
   "execution_count": 16,
   "metadata": {},
   "outputs": [],
   "source": [
    "from math import cos"
   ]
  },
  {
   "cell_type": "markdown",
   "metadata": {},
   "source": [
    "Iegūst nejauši izvēlētas punktu *y* koordinātes."
   ]
  },
  {
   "cell_type": "code",
   "execution_count": 17,
   "metadata": {},
   "outputs": [],
   "source": [
    "y = random.uniform(a,b1,N)"
   ]
  },
  {
   "cell_type": "markdown",
   "metadata": {},
   "source": [
    "Tiek importēta grafika zīmēšanas komanda *pyplot* no *matplotlib* bibliotēkas. *plyplot* tiek nodēvēts kā *plt*. "
   ]
  },
  {
   "cell_type": "code",
   "execution_count": 18,
   "metadata": {},
   "outputs": [],
   "source": [
    "from matplotlib import pyplot as plt"
   ]
  },
  {
   "cell_type": "markdown",
   "metadata": {},
   "source": [
    "Tiek zīmēts grafiks, izmantojot *pyplot*.\n",
    "\n",
    "Lai aprēķinātu funkcijas laukumu dotajā intervālā, atliktie punkti tiek iekrāsoti attiecīgi tā, vai tie ietilpst zem funkcijas y=$cos^{2}$(x/2) grafika, vai virs tās.\n",
    "Punkti, kur atrodas starp **x** asi un funkcijas grafiku, tiek iekrāsoti zaļi, aprēķinot, vai funkcijas rezultāts pie šī punkta **x** vērtības ir lielāks par šī punkta **y** vērtību. Ja **y** ir lielāks, punkts tiek iekrāsots sarkans. \n",
    "\n",
    "Katrs zaļais jeb derīgais punkts tiek uzskaitīts laukuma aprēķināšanai."
   ]
  },
  {
   "cell_type": "code",
   "execution_count": 19,
   "metadata": {},
   "outputs": [
    {
     "data": {
      "image/png": "[encoded data removed]",
      "text/plain": [
       "<Figure size 432x288 with 1 Axes>"
      ]
     },
     "metadata": {},
     "output_type": "display_data"
    }
   ],
   "source": [
    "plt.grid()\n",
    "plt.xlabel('x')\n",
    "plt.ylabel('y')\n",
    "plt.title('Funkcija un taas integraalis (laukums starp funkciju un x ass)')\n",
    "plt.plot(x,y,'ko')\n",
    "N1 = 0\n",
    "for i in range(N):\n",
    "    if y[i] < cos(x[i]/2)*cos(x[i]/2):\n",
    "        plt.plot(x[i],y[i],'go')\n",
    "        N1 = N1 + 1\n",
    "    else:\n",
    "        plt.plot(x[i],y[i],'ro')\n",
    "plt.show()"
   ]
  },
  {
   "cell_type": "markdown",
   "metadata": {},
   "source": [
    "Pirmajā rindiņā tiek aprēķināts šī intervāla laukums. Intervāls veido taisnstūri. Lai iegūtu malu garumus, no **y** un **x** intervālu galu punktiem tiek atņemts sākumpunkts. Iegūtos malu garumus sareizina, lai iegūtu kopējo laukumu.\n",
    "\n",
    "Lai iegūtu funkcijas laukumu, intervāla laukums tiek reizināts ar derīgo punktu skaitu. Reizinājums tiek dalīts ar kopējo punktu skaitu, lai iegūtu funkcijas laukumu. \n",
    "\n",
    "Dažos gadījumos rezultāts tiek izprintēts kā *integer*. Lai nodrošinātu, ka iegūtais skaitlis ir *float* vērtība un rezultātā nedotu veselu skaitli, formulā tiek piereizināts \"1.\"."
   ]
  },
  {
   "cell_type": "code",
   "execution_count": 20,
   "metadata": {},
   "outputs": [
    {
     "name": "stdout",
     "output_type": "stream",
     "text": [
      "2.038\n"
     ]
    }
   ],
   "source": [
    "S_zinaamais = (b-a) * (b1-a)\n",
    "S_nezinaamais = 1. * S_zinaamais * N1 / N\n",
    "print(S_nezinaamais)"
   ]
  },
  {
   "cell_type": "markdown",
   "metadata": {},
   "source": [
    "Rezultāta pierādījums, izmantojot WolframAlpha integrēšanas funkciju.\n",
    "\n",
    "<img src=\"files/integrate.png\" />"
   ]
  }
 ],
 "metadata": {
  "kernelspec": {
   "display_name": "Python 3",
   "language": "python",
   "name": "python3"
  },
  "language_info": {
   "codemirror_mode": {
    "name": "ipython",
    "version": 3
   },
   "file_extension": ".py",
   "mimetype": "text/x-python",
   "name": "python",
   "nbconvert_exporter": "python",
   "pygments_lexer": "ipython3",
   "version": "3.6.7"
  }
 },
 "nbformat": 4,
 "nbformat_minor": 2
}

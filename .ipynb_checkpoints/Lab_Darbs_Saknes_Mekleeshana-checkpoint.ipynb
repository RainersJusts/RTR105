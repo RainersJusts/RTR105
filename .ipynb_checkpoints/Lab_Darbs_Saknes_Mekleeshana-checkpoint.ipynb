{
 "cells": [
  {
   "cell_type": "markdown",
   "metadata": {},
   "source": [
    "## Atskaite par laboratorijas darbu saknes meklēšanā"
   ]
  },
  {
   "cell_type": "markdown",
   "metadata": {},
   "source": [
    "Dotā funkcija = $cos^{2}(x/2)$"
   ]
  },
  {
   "cell_type": "markdown",
   "metadata": {},
   "source": [
    "Tiek importēta kosinusa aprēķināšanas komanda *cos* un moduļa aprēķināšanas komandu *fabs* no *math* bibliotēkas.\n",
    "\n",
    "Tiek importēta komandu izpildīšanas aizkavēšanas komanda *sleep* no *time* bibliotēkas."
   ]
  },
  {
   "cell_type": "code",
   "execution_count": 63,
   "metadata": {},
   "outputs": [],
   "source": [
    "from math import cos, fabs\n",
    "from time import sleep"
   ]
  },
  {
   "cell_type": "markdown",
   "metadata": {},
   "source": [
    "Definēju komandu savas funkcijas aprēķināšanai ar nobīdi par 0.5 uz leju, lai mākslīgi izveidotu sakni dotajai funkcijai.\n",
    "\n",
    "Dotā funkcija bez nobīdes ir tikai pozitīva un vienīgās saknes atkārtojas ik pēc ${\\pi*n}$, kur n ir vesels skaitlis. Lai rezultāts būtu uzskatāmāks, veicu nobīdi rezultātā par 0.5"
   ]
  },
  {
   "cell_type": "code",
   "execution_count": 64,
   "metadata": {},
   "outputs": [],
   "source": [
    "def f(x):\n",
    "    return cos(x/2)*cos(x/2)-0.5"
   ]
  },
  {
   "cell_type": "markdown",
   "metadata": {},
   "source": [
    "Tiek definēti skaitļi, ar kuriem tiks noteikts intervāls, kurā meklēs dotajai funkcijai saknes."
   ]
  },
  {
   "cell_type": "code",
   "execution_count": 65,
   "metadata": {},
   "outputs": [],
   "source": [
    "a = 1.1\n",
    "b = 3.2"
   ]
  },
  {
   "cell_type": "markdown",
   "metadata": {},
   "source": [
    "Tiek aprēķinātas dotās funkcijas vērtības intervāla galapunktos."
   ]
  },
  {
   "cell_type": "code",
   "execution_count": 66,
   "metadata": {},
   "outputs": [],
   "source": [
    "funa = f(a)\n",
    "funb = f(b)"
   ]
  },
  {
   "cell_type": "markdown",
   "metadata": {},
   "source": [
    "Tiek noteikts, vai dotajā intervālā funkcijai ir saknes.\n",
    "\n"
   ]
  },
  {
   "cell_type": "code",
   "execution_count": 67,
   "metadata": {},
   "outputs": [
    {
     "name": "stdout",
     "output_type": "stream",
     "text": [
      "Dotajaa intervaalaa [1.1, 3.2] sakne(s) ir!\n"
     ]
    }
   ],
   "source": [
    "if ( funa*funb > 0.0):\n",
    "    print(\"Dotaja intervala [%s, %s] skanju nav\"%(a, b))\n",
    "    sleep(1); exit()\n",
    "else:\n",
    "    print(\"Dotajaa intervaalaa [%s, %s] sakne(s) ir!\"%(a, b))"
   ]
  },
  {
   "cell_type": "markdown",
   "metadata": {},
   "source": [
    "Tiek definēta precizitāte, ar kuru meklē dotās funkcijas sakni."
   ]
  },
  {
   "cell_type": "code",
   "execution_count": 68,
   "metadata": {},
   "outputs": [],
   "source": [
    "deltax = 0.0001"
   ]
  },
  {
   "cell_type": "markdown",
   "metadata": {},
   "source": [
    "Izmantojot Dihotomijas metodi, tiek meklēta dotās funkcijas sakne.\n",
    "\n",
    "Cikls tiek pildīts, kamēr dotā intervāla galapunktu starpība ir lielāka par doto precizitāti. Ar katru cikla izpildes reizi tiek sašaurināts saknes meklēšanas intervāls un tiek skaitīts, kuru reizi tas tiek pildīts, lai noskaidrotu, cik iterācijas ir vajadzīgas saknes atrašanai dotajā precizitātē.\n",
    "\n",
    "Argumenta vērtība ir intervālu galapunktu summas dalījums ar 2. Šī vērtība tiek ievietota dotajā funkcijā. Ja šīs vērtības reizinājums ar funkcijas vērtību intervāla sākumpunktu ir mazāks par 0., tad jaunais saknes meklēšanas intervāla *galapunkts* ir argumenta vērtība. Ja lielāks par 0., tad *sākumpunkts* maina savu vērtību uz argumenta vērtību."
   ]
  },
  {
   "cell_type": "code",
   "execution_count": 69,
   "metadata": {},
   "outputs": [],
   "source": [
    "k = 0\n",
    "while ( fabs(b-a) > deltax ):\n",
    "    k = k + 1\n",
    "    x = (a+b)/2; funx = f(x)\n",
    "    if (funa*funx < 0. ):\n",
    "        b = x\n",
    "    else:\n",
    "        a = x"
   ]
  },
  {
   "cell_type": "markdown",
   "metadata": {},
   "source": [
    "Tiek aprēķināta funkcijas vērtība bez nobīdes atrastajā saknē."
   ]
  },
  {
   "cell_type": "code",
   "execution_count": 70,
   "metadata": {},
   "outputs": [],
   "source": [
    "realfunc = cos(x/2)*cos(x/2)"
   ]
  },
  {
   "cell_type": "markdown",
   "metadata": {},
   "source": [
    "Tiek  izprintēta iegūtā sakne, funkcijas vērtība bez nobīdes šajā punktā un nepieciešamo iterāciju skaits."
   ]
  },
  {
   "cell_type": "code",
   "execution_count": 71,
   "metadata": {},
   "outputs": [
    {
     "name": "stdout",
     "output_type": "stream",
     "text": [
      "Sakne ir:  1.5708465576171877\n",
      "Funkcijas vērtība šajā punktā:  0.499974884588865\n",
      "Nepieciešamo iterāciju skaits intervālu dalīšanai uz pusēm: 15\n"
     ]
    }
   ],
   "source": [
    "print(\"Sakne ir: \", x)\n",
    "print(\"Funkcijas vērtība šajā punktā: \", realfunc)\n",
    "print(\"Nepieciešamo iterāciju skaits intervālu dalīšanai uz pusēm:\", k)"
   ]
  },
  {
   "cell_type": "markdown",
   "metadata": {},
   "source": [
    "#### Iegūtā rezultāta pamatojums, izmantojot *pyplot* no *matplotlib bibliotēkas* un kosinusa komandu no *numpy* bibliotēkas.\n",
    "\n",
    "Tiek lietots *cos* no *numpy*, jo *cos* no *math* nestrādā ar *linspace* komandas veidotu masīvu.\n",
    "\n",
    "Punktā atzīmēta iepriekš iegūtā sakne. Horizontālā līnija norāda nobīdi(jauno x asi)."
   ]
  },
  {
   "cell_type": "code",
   "execution_count": 72,
   "metadata": {},
   "outputs": [
    {
     "data": {
      "image/png": "[encoded data removed]",
      "text/plain": [
       "<Figure size 432x288 with 1 Axes>"
      ]
     },
     "metadata": {},
     "output_type": "display_data"
    }
   ],
   "source": [
    "from matplotlib import pyplot as plt\n",
    "from numpy import linspace\n",
    "from numpy import cos as kos\n",
    "\n",
    "originalx = x\n",
    "x  = linspace(0,4,21)\n",
    "y = kos(x/2)*kos(x/2)\n",
    "\n",
    "plt.axis([1,3.5,0,1])\n",
    "plt.grid()\n",
    "plt.xlabel(\"x\")\n",
    "plt.ylabel(\"f(x)\")\n",
    "plt.plot(x,y,\"r\")\n",
    "plt.axhline(y = 0.5)\n",
    "plt.plot(originalx,realfunc,'ch',markersize = 10)\n",
    "plt.show()"
   ]
  },
  {
   "cell_type": "code",
   "execution_count": null,
   "metadata": {},
   "outputs": [],
   "source": []
  }
 ],
 "metadata": {
  "kernelspec": {
   "display_name": "Python 3",
   "language": "python",
   "name": "python3"
  },
  "language_info": {
   "codemirror_mode": {
    "name": "ipython",
    "version": 3
   },
   "file_extension": ".py",
   "mimetype": "text/x-python",
   "name": "python",
   "nbconvert_exporter": "python",
   "pygments_lexer": "ipython3",
   "version": "3.6.7"
  }
 },
 "nbformat": 4,
 "nbformat_minor": 2
}

{
 "cells": [
  {
   "cell_type": "markdown",
   "metadata": {},
   "source": [
    "## Atskaite par laboratorijas darbu Teilora rindās"
   ]
  },
  {
   "cell_type": "markdown",
   "metadata": {},
   "source": [
    "Dotā funkcija = $cos^{2}(x/2)$"
   ]
  },
  {
   "cell_type": "markdown",
   "metadata": {},
   "source": [
    "Tiek importēts kosinusa aprēķināšānas komanda *cos* no  *math* bibliotēkas."
   ]
  },
  {
   "cell_type": "code",
   "execution_count": 2,
   "metadata": {},
   "outputs": [],
   "source": [
    "from math import cos"
   ]
  },
  {
   "cell_type": "markdown",
   "metadata": {},
   "source": [
    "Tiek definēta kosinusa aprēķināšanas komanda, izmantojot funkcijas rēķināšanu caur summu.\n",
    "\n",
    "Funkcija sākumā aprēķina rindas pirmo elementu un to izprintē.\n",
    "Pēc pirmā locekļa aprēķināšanas, tiek uzsākts cikls, kurš aprēķina nākamos 500 elementus rindā(ar 500 pietiek, lai aprēķinātu visus pietiekami nozīmīgos elementus, kuri nav pārāk mazi).\n",
    "\n",
    "Katru locekli aprēķina, izmantojot rekurences reizinātāju, kuru piereizina rindas iepriekšējam loceklim. Jauniegūto locekli pieskaita rindas summai.\n",
    "\n",
    "Kā uzdevumā prasīts, cikla ietvaros tiek izprintēts rindas 499. loceklis.\n",
    "\n",
    "Definētās funckijas rezultāts ir izprintēts virknes 1. loceklis, 499.lockelis, 500.loceklis un tiek izdota aprēķinātā summa pēc **x**."
   ]
  },
  {
   "cell_type": "code",
   "execution_count": 3,
   "metadata": {},
   "outputs": [],
   "source": [
    "def manscos(x):\n",
    "    k = 0\n",
    "    a = (-1)**0*x**0/(1)\n",
    "    S = a\n",
    "    print(\"a0 = %6.2f S0 = %6.2f\"%(a,S))\n",
    "\n",
    "    while k < 500:\n",
    "        k = k + 1\n",
    "        R = (-1)*x*x/((2*k)*(2*k-1))\n",
    "        a = a * R\n",
    "        S = S + a\n",
    "        if k == 499:\n",
    "            print(\"a%d = %6.2f S%d = %6.2f\"%(k,a,k,S))\n",
    "\n",
    "    print(\"a500 = %6.2f S500 = %6.2f\"%(a,S))\n",
    "    S = 1/2 + S/2\n",
    "    return S"
   ]
  },
  {
   "cell_type": "markdown",
   "metadata": {},
   "source": [
    "Tiek pieprasīts ievadīt vēlamo argumenta **x** vērtību $cos^{2}(x/2)$ aprēķināšanā\n",
    "\n",
    "Ievadītā x vērtība tiek pārveidota par *float* vērtību, lai nodrošinātu rēķināšanu.\n",
    "\n",
    "Lai pārbaudītu pēc summas rēķinātās vērtības precizitāti un pareizumu, tiek aprēķināta un izdota funkcijas vērtība, izmantojot *cos* komandu no *math* bibliotēkas."
   ]
  },
  {
   "cell_type": "code",
   "execution_count": 7,
   "metadata": {},
   "outputs": [
    {
     "name": "stdout",
     "output_type": "stream",
     "text": [
      "cos(x/2)*cos(x/2) aprekinasana:\n",
      "Ievadi argumentu (x): 2\n",
      "cos(x/2)*cos(x/2) =   0.29\n"
     ]
    }
   ],
   "source": [
    "print(\"cos(x/2)*cos(x/2) aprekinasana:\")\n",
    "f = input(\"Ievadi argumentu (x): \")\n",
    "x = float(f)\n",
    "y = cos(x/2)*cos(x/2)\n",
    "print(\"cos(x/2)*cos(x/2) = %6.2f\"%(y))"
   ]
  },
  {
   "cell_type": "markdown",
   "metadata": {},
   "source": [
    "Tiek aprēķināta un izdota $cos^{2}(x/2)$ vērtība, izmantojot definēto funkciju *manscos(x)*."
   ]
  },
  {
   "cell_type": "code",
   "execution_count": 8,
   "metadata": {},
   "outputs": [
    {
     "name": "stdout",
     "output_type": "stream",
     "text": [
      "a0 =   1.00 S0 =   1.00\n",
      "a499 =  -0.00 S499 =  -0.42\n",
      "a500 =   0.00 S500 =  -0.42\n",
      "cos(2.00)*cos(2.00) caur summu =   0.29\n"
     ]
    }
   ],
   "source": [
    "yy = manscos(x)\n",
    "print(\"cos(%.2f)*cos(%.2f) caur summu = %6.2f\"%(x,x,yy))"
   ]
  },
  {
   "cell_type": "markdown",
   "metadata": {},
   "source": [
    "#### Funkcijas ASCII zīmējums\n",
    "\n",
    "Tiek definēts bezgalības simbols, lai to lietotu zimējumā, kur tas ir vajadzīgs."
   ]
  },
  {
   "cell_type": "code",
   "execution_count": 10,
   "metadata": {},
   "outputs": [
    {
     "name": "stdout",
     "output_type": "stream",
     "text": [
      "\n",
      "\n",
      "                             500\n",
      "                           -------\n",
      "                           \\           k     2k\n",
      "                    1   1   \\      (-1)  *  x\n",
      "cos(x/2)*cos(x/2) = - + -    |    ---------------    , kur - ∞ < x < ∞\n",
      "                    2   2   /         (2*k)!\n",
      "                           /\n",
      "                           -------\n",
      "                            k = 0\n",
      "\n",
      "\n",
      "                                      2\n",
      "                                     x\n",
      "rekurences reizinatajs = (-1)* ---------------\n",
      "                                (2*n-1)*(2*n)\n"
     ]
    }
   ],
   "source": [
    "a = u\"\\u221E\"\n",
    "print(\"\")\n",
    "print(\"\")\n",
    "print(\"                             500\")\n",
    "print(\"                           -------\")\n",
    "print(\"                           \\           k     2k\")\n",
    "print(\"                    1   1   \\      (-1)  *  x\")\n",
    "print(\"cos(x/2)*cos(x/2) = - + -    |    ---------------    , kur - %s < x < %s\"%(a,a))\n",
    "print(\"                    2   2   /         (2*k)!\")\n",
    "print(\"                           /\")\n",
    "print(\"                           -------\")\n",
    "print(\"                            k = 0\")\n",
    "print(\"\")\n",
    "print(\"\")\n",
    "print(\"                                      2\")\n",
    "print(\"                                     x\")\n",
    "print(\"rekurences reizinatajs = (-1)* ---------------\")\n",
    "print(\"                                (2*n-1)*(2*n)\")"
   ]
  }
 ],
 "metadata": {
  "kernelspec": {
   "display_name": "Python 3",
   "language": "python",
   "name": "python3"
  },
  "language_info": {
   "codemirror_mode": {
    "name": "ipython",
    "version": 3
   },
   "file_extension": ".py",
   "mimetype": "text/x-python",
   "name": "python",
   "nbconvert_exporter": "python",
   "pygments_lexer": "ipython3",
   "version": "3.6.7"
  }
 },
 "nbformat": 4,
 "nbformat_minor": 2
}
